{
 "cells": [
  {
   "cell_type": "markdown",
   "metadata": {},
   "source": [
    "# Como configurar/instalar o `Bottles` no `Linux Ubuntu`\n",
    "\n",
    "## Resumo\n",
    "\n",
    "Neste documento estão contidos os principais comandos e configurações para configurar/instalar o `Bottles` no `Linux Ubuntu`.\n",
    "\n",
    "## _Abstract_\n",
    "\n",
    "_This document contains the main commands and settings to configure/install the `Bottles` on `Linux Ubuntu`._"
   ]
  },
  {
   "cell_type": "markdown",
   "metadata": {
    "vscode": {
     "languageId": "plaintext"
    }
   },
   "source": [
    "## Descrição [2]\n",
    "\n",
    "### `Bottles`\n",
    "\n",
    "O `Bottles` é uma aplicação versátil e `user-friendly` para `Linux`, projetada para simplificar a gestão de ambientes Windows em sistemas operacionais baseados em `Linux`. Ele permite aos usuários executar facilmente aplicativos e jogos do Windows em suas máquinas `Linux`, criando \"garrafas\" — ambientes isolados que simulam diferentes configurações do Windows. Utilizando a tecnologia do Wine, uma camada de compatibilidade capaz de executar aplicativos Windows em sistemas UNIX, o `Bottles` oferece uma interface gráfica intuitiva que torna mais fácil para os usuários configurar, gerenciar e rodar seus programas Windows favoritos. Além disso, o `Bottles` oferece recursos avançados como a integração de patches e a possibilidade de ajustar configurações específicas para otimizar o desempenho dos aplicativos, tornando-o uma ferramenta valiosa tanto para usuários casuais quanto para profissionais que necessitam de aplicativos específicos do `Windows` em ambientes `Linux`."
   ]
  },
  {
   "cell_type": "markdown",
   "metadata": {},
   "source": [
    "## 1. Configurar/Instalar o `Bottles` no `Linux Ubuntu` (caso ainda não esteja instalado) [1]\n",
    "\n",
    "Para instalar o `Bottles` via `Flatpak` no `Ubuntu`, siga os passos abaixo::\n",
    "\n",
    "1. Abra o `Terminal Emulator`. Você pode fazer isso pressionando: `Ctrl + Alt + T`\n"
   ]
  },
  {
   "cell_type": "markdown",
   "metadata": {
    "vscode": {
     "languageId": "plaintext"
    }
   },
   "source": [
    "2. Certifique-se de que seu sistema esteja limpo e atualizado.\n",
    "\n",
    "    2.1 Limpar o `cache` do gerenciador de pacotes `apt`. Especificamente, ele remove todos os arquivos de pacotes (`.deb`) baixados pelo `apt` e armazenados em `/var/cache/apt/archives/`. Digite o seguinte comando: `sudo apt clean` \n",
    "    \n",
    "    2.2 Remover pacotes `.deb` antigos ou duplicados do cache local. É útil para liberar espaço, pois remove apenas os pacotes que não podem mais ser baixados (ou seja, versões antigas de pacotes que foram atualizados). Digite o seguinte comando: `sudo apt autoclean`\n",
    "\n",
    "    2.3 Remover pacotes que foram automaticamente instalados para satisfazer as dependências de outros pacotes e que não são mais necessários. Digite o seguinte comando: `sudo apt autoremove -y`\n",
    "\n",
    "    2.4 Buscar as atualizações disponíveis para os pacotes que estão instalados em seu sistema. Digite o seguinte comando e pressione `Enter`: `sudo apt update`\n",
    "\n",
    "    2.5 **Corrigir pacotes quebrados**: Isso atualizará a lista de pacotes disponíveis e tentará corrigir pacotes quebrados ou com dependências ausentes: `sudo apt --fix-broken install`\n",
    "\n",
    "    2.6 Limpar o `cache` do gerenciador de pacotes `apt`. Especificamente, ele remove todos os arquivos de pacotes (`.deb`) baixados pelo `apt` e armazenados em `/var/cache/apt/archives/`. Digite o seguinte comando: `sudo apt clean` \n",
    "    \n",
    "    2.7 Para ver a lista de pacotes a serem atualizados, digite o seguinte comando e pressione `Enter`:  `sudo apt list --upgradable`\n",
    "\n",
    "    2.8 Realmente atualizar os pacotes instalados para as suas versões mais recentes, com base na última vez que você executou `sudo apt update`. Digite o seguinte comando e pressione `Enter`: `sudo apt full-upgrade -y`\n",
    "    "
   ]
  },
  {
   "cell_type": "markdown",
   "metadata": {},
   "source": [
    "3. **Instale o `flatpak`:** com o comando: `sudo apt install flatpak -y`\n",
    "\n",
    "4. **Instalar o pacote `gnome-software-plugin-flatpak`:** Para ativar o UFW, execute o comando: `sudo apt install gnome-software-plugin-flatpak -y`\n",
    "\n",
    "5. **Instalar o pacote para interagir com o sistema `flatpak`:** Você pode instalar o pacote a qualquer momento usando: `flatpak remote-add --if-not-exists flathub https://dl.flathub.org/repo/flathub.flatpakrepo`\n",
    "\n",
    "6. **Reiniciar o computador (opcional):** Para garantir que os repositórios abaixo apareçam no arquivo de pesquisa `XDG_DATA_DIRS`, reinicie o computador com o comando: `sudo systemctl reboot`\n",
    "\n",
    "    ```\n",
    "    Note that the directories \n",
    "\n",
    "    '/var/lib/flatpak/exports/share'\n",
    "    '/home/edendenis/.local/share/flatpak/exports/share'\n",
    "\n",
    "    are not in the search path set by the XDG_DATA_DIRS environment variable, so\n",
    "    applications installed by Flatpak may not appear on your desktop until the\n",
    "    session is restarted.\n",
    "    ```\n",
    "\n",
    "6. **Instale o `bottles`:** com o comando: `flatpak install flathub com.usebottles.bottles -y`\n",
    "\n",
    "7. Para abrir o aplicativo Bottles pelo terminal no Linux, execute o comando: `flatpak run com.usebottles.bottles`\n"
   ]
  },
  {
   "cell_type": "code",
   "execution_count": null,
   "metadata": {
    "vscode": {
     "languageId": "plaintext"
    }
   },
   "outputs": [],
   "source": [
    "## 2. Código completo para configurar/instalar\n",
    "\n",
    "Para instalar o `Bottles` no Linux Ubuntu sem precisar digitar linha por linha, você pode seguir estas etapas:\n",
    "\n",
    "1. Abra o terminal. Você pode fazer isso pressionando: `Ctrl + Alt + T`\n",
    "\n",
    "2. Digite o seguinte comando e pressione `Enter`:\n",
    "\n",
    "    ```\n",
    "    sudo apt update -y\n",
    "    sudo apt list --upgradable\n",
    "    sudo apt full-upgrade -y\n",
    "    sudo apt install flatpak -y\n",
    "    sudo apt install gnome-software-plugin-flatpak -y\n",
    "    flatpak remote-add --if-not-exists flathub https://dl.flathub.org/repo/flathub.flatpakrepo\n",
    "    flatpak install flathub com.usebottles.bottles -y\n",
    "    flatpak run com.usebottles.bottles\n",
    "    ```    \n"
   ]
  },
  {
   "cell_type": "markdown",
   "metadata": {
    "vscode": {
     "languageId": "plaintext"
    }
   },
   "source": [
    "## Referências\n",
    "\n",
    "[1] OPENAI. ***Instale o bottles no ubuntu:*** https://chat.openai.com/c/76078ae9-14d1-4a0f-8feb-a2a0a22d9c31 (texto adaptado). ChatGPT. Acessado em: 09/11/2023 21:09.\n",
    "\n",
    "[2] OPENAI. ***Vs code: editor popular:*** https://chat.openai.com/c/b640a25d-f8e3-4922-8a3b-ed74a2657e42 (texto adaptado). ChatGPT. Acessado em: 14/11/2023 09:33."
   ]
  }
 ],
 "metadata": {
  "kernelspec": {
   "display_name": "Python 3",
   "language": "python",
   "name": "python3"
  },
  "language_info": {
   "codemirror_mode": {
    "name": "ipython",
    "version": 3
   },
   "file_extension": ".py",
   "mimetype": "text/x-python",
   "name": "python",
   "nbconvert_exporter": "python",
   "pygments_lexer": "ipython3",
   "version": "3.8.10"
  },
  "orig_nbformat": 4
 },
 "nbformat": 4,
 "nbformat_minor": 2
}
